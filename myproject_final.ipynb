{
  "nbformat": 4,
  "nbformat_minor": 0,
  "metadata": {
    "colab": {
      "provenance": [],
      "include_colab_link": true
    },
    "kernelspec": {
      "name": "python3",
      "display_name": "Python 3"
    },
    "language_info": {
      "name": "python"
    }
  },
  "cells": [
    {
      "cell_type": "markdown",
      "metadata": {
        "id": "view-in-github",
        "colab_type": "text"
      },
      "source": [
        "<a href=\"https://colab.research.google.com/github/seo03/DL23_Project_G2/blob/main/myproject_final.ipynb\" target=\"_parent\"><img src=\"https://colab.research.google.com/assets/colab-badge.svg\" alt=\"Open In Colab\"/></a>"
      ]
    },
    {
      "cell_type": "markdown",
      "source": [
        "## 📕 **Learning English literature works using digital tools**\n",
        "\n",
        "\n",
        "\n",
        "## 📌 Goal\n",
        "1. Read the English literature work \"The Perfect Match\" and understand the perspectives of the characters.\n",
        "2. Create a image that best represents the work.\n"
      ],
      "metadata": {
        "id": "nPNypUZCoDNT"
      }
    },
    {
      "cell_type": "markdown",
      "source": [
        "Hello! Today, we will use various digital tools to learn about the English literature work \"Perfect Match.\" Let's follow the step-by-step instructions."
      ],
      "metadata": {
        "id": "QHoIMjZroeep"
      }
    },
    {
      "cell_type": "markdown",
      "source": [
        "## ⭐ Preview 01. Watching videos about artificial intelligence (AI)"
      ],
      "metadata": {
        "id": "TP3Y1l470uK5"
      }
    },
    {
      "cell_type": "markdown",
      "source": [
        "Let's take a look at the video related to AI and predict what the perfect match will be today. Please click on the link."
      ],
      "metadata": {
        "id": "TNcHUvfx5Fg1"
      }
    },
    {
      "cell_type": "markdown",
      "source": [
        "[Youtube link for the Preview](https://youtu.be/a7KFXUtLg_0)"
      ],
      "metadata": {
        "id": "WY2OphYa03Uw"
      }
    },
    {
      "cell_type": "markdown",
      "source": [
        "## ⭐ Preview 02. Wordcloud"
      ],
      "metadata": {
        "id": "sKpqlC1e1m2H"
      }
    },
    {
      "cell_type": "markdown",
      "source": [
        "Now, let's look at the words that appear in the text using a digital tool called WordCloud. Copy and paste the text file and allow the code to run."
      ],
      "metadata": {
        "id": "2ugvJQPQ5ERc"
      }
    },
    {
      "cell_type": "markdown",
      "source": [
        "[text file](https://raw.githubusercontent.com/seo03/DL23_Project_G2/main/The%20Perfect%20Match)"
      ],
      "metadata": {
        "id": "GDZ0e2UA2rso"
      }
    },
    {
      "cell_type": "code",
      "source": [
        "import matplotlib.pyplot as plt\n",
        "from wordcloud import WordCloud\n",
        "\n",
        "# Getting text from the user\n",
        "user_text = input(\"Please paste text file here: \")\n",
        "\n",
        "\n",
        "wordcloud = WordCloud(\n",
        "    background_color='white',\n",
        "    width=800,\n",
        "    height=800,\n",
        "    max_words=100\n",
        ").generate(user_text)\n",
        "\n",
        "plt.figure(figsize=(8, 8))\n",
        "plt.imshow(wordcloud, interpolation='bilinear')\n",
        "plt.axis('off')\n",
        "plt.show()"
      ],
      "metadata": {
        "id": "v4ETyMxGZptU"
      },
      "execution_count": null,
      "outputs": []
    },
    {
      "cell_type": "markdown",
      "source": [
        "## ⏰ Todo 01. Watching a synopsis video made using **Steve AI**"
      ],
      "metadata": {
        "id": "U-SAugcv41t4"
      }
    },
    {
      "cell_type": "markdown",
      "source": [
        "**Steve AI** is an app that artificial intelligence makes videos when users enter text. Watch the video created by typing in \"The Perfect Match\" plot to understand what's going on. "
      ],
      "metadata": {
        "id": "-GxDlRJE-Tz9"
      }
    },
    {
      "cell_type": "markdown",
      "source": [
        "[Youtube link for the synopsis video](https://youtu.be/XbNMtJM5fj8)"
      ],
      "metadata": {
        "id": "F3d3Uvem8LIW"
      }
    },
    {
      "cell_type": "markdown",
      "source": [
        "✋ If you would like to create your own video, please click the link below to create it. "
      ],
      "metadata": {
        "id": "G5odEIYhAy_F"
      }
    },
    {
      "cell_type": "markdown",
      "source": [
        "[Steve AI](https://www.steve.ai/)"
      ],
      "metadata": {
        "id": "lrejzuOGA7Dc"
      }
    },
    {
      "cell_type": "markdown",
      "source": [
        "## ⏰ Todo 02. Word Quiz\n"
      ],
      "metadata": {
        "id": "MUPsBDyG8CEl"
      }
    },
    {
      "cell_type": "markdown",
      "source": [
        "Please run the code and solve the word quiz."
      ],
      "metadata": {
        "id": "5SCMTog5Bbnt"
      }
    },
    {
      "cell_type": "code",
      "source": [
        "dict_eng = {\"recommend\" : \"추천하다\", \"refuse\" : \"거절하다\", \"install\" : \"설치하다\", \"separate\" : \"분리되다\", \"figure out\" : \"이해하다\", \"monitor\" : \"감시하다\", \"observe\" : \"관찰하다\", \"promote\" : \"촉진하다\", \"illegal\" : \"불법적인\", \"neglect\" : \"방치하다\"}\n",
        "\n",
        "\n",
        "for i in dict_eng :\n",
        "  user_input = input(f\"{i}의 뜻은?   >>> \")\n",
        "\n",
        "  if user_input == dict_eng[i] :\n",
        "    print(\"정답입니다.\")\n",
        "  else :\n",
        "    print(f\"틀렸습니다. 정답은 {dict_eng[i]}입니다.\")"
      ],
      "metadata": {
        "id": "RGz-PVr7Zh6U"
      },
      "execution_count": null,
      "outputs": []
    },
    {
      "cell_type": "markdown",
      "source": [
        "## ⏰ Todo 03. Plot Quiz"
      ],
      "metadata": {
        "id": "j8F3H_NR8XaN"
      }
    },
    {
      "cell_type": "markdown",
      "source": [
        "Please click on the Google Forms link below to take a plot quiz."
      ],
      "metadata": {
        "id": "rgbQRxN3-nzm"
      }
    },
    {
      "cell_type": "markdown",
      "source": [
        "[Google form link for Plot Quiz](https://forms.gle/VEgHxKWKgvzGs32s9)"
      ],
      "metadata": {
        "id": "GV7rbEKGCDEN"
      }
    },
    {
      "cell_type": "markdown",
      "source": [
        "## ⏰ Todo 04. Discussion"
      ],
      "metadata": {
        "id": "FGKAcRZ1-oQl"
      }
    },
    {
      "cell_type": "markdown",
      "source": [
        "Let's have a discussion and share our opinions on two topics regarding Perfect Match. Please have a group discussion, gather your opinions, and upload them to Padlet."
      ],
      "metadata": {
        "id": "UODXU--1-ok-"
      }
    },
    {
      "cell_type": "markdown",
      "source": [
        "**1. If Personal Artificial Intelligence systems like Tilly were invented in the future, would you use it?**\n",
        "\n",
        "**2. Can humans develop deep connections with personal artificial intelligence companions like Tilly, as depicted in \"The Perfect Match\"?**"
      ],
      "metadata": {
        "id": "a-ioJob-DM4k"
      }
    },
    {
      "cell_type": "markdown",
      "source": [
        "[Padlet link](https://padlet.com/daeun0344/the-perfect-match-padlet-doitx5k9dbcqq1fd)"
      ],
      "metadata": {
        "id": "aemYtetVDTMT"
      }
    },
    {
      "cell_type": "markdown",
      "source": [
        "## ⏰ Todo 05. Creating a image that best represents the work using **DALL·E**"
      ],
      "metadata": {
        "id": "gtudGp4F-pCt"
      }
    },
    {
      "cell_type": "markdown",
      "source": [
        "**DALL·E** allows users to imagine the image they want and input a corresponding sentence, upon which the AI generates unique images. Let's create an image that best represents today's Perfect Match, which we learned about."
      ],
      "metadata": {
        "id": "WMALVtN-FxKD"
      }
    },
    {
      "cell_type": "markdown",
      "source": [
        "[DALL·E](https://www.bing.com/create)"
      ],
      "metadata": {
        "id": "lme-jsp_FyAz"
      }
    },
    {
      "cell_type": "markdown",
      "source": [
        "## ❤️ Sharing your images!"
      ],
      "metadata": {
        "id": "RoNXkD21FzkD"
      }
    },
    {
      "cell_type": "markdown",
      "source": [
        "Upload the finished image to your padlet and share it with your classmates.\n"
      ],
      "metadata": {
        "id": "P9jVMtC2Io57"
      }
    },
    {
      "cell_type": "markdown",
      "source": [
        "[Padlet link](https://padlet.com/daeun0344/the-perfect-match-padlet-doitx5k9dbcqq1fd)"
      ],
      "metadata": {
        "id": "bI-5_6_UIpPS"
      }
    }
  ]
}